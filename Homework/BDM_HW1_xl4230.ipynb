{
  "nbformat": 4,
  "nbformat_minor": 0,
  "metadata": {
    "colab": {
      "name": "BDM_HW1_xl4230",
      "provenance": [],
      "collapsed_sections": []
    },
    "kernelspec": {
      "name": "python3",
      "display_name": "Python 3"
    }
  },
  "cells": [
    {
      "cell_type": "markdown",
      "metadata": {
        "id": "lvnKTXzOO5p_"
      },
      "source": [
        "# Homework 1 - Streaming (15 pts)\n",
        "\n",
        "Please turn in your note book naming as **BDM\\_HW1\\_NetID.ipynb**."
      ]
    },
    {
      "cell_type": "markdown",
      "metadata": {
        "id": "MGjOHTNOL9Lr"
      },
      "source": [
        "\n",
        "## Task 1 (5 points)\n",
        "\n",
        "You are asked to write a Python generator that takes a sequence of characters as input (think of it as a string iterator that can only be traversed forward) and returns a generator of substrings containing consecutive characters in the string. For example, substrings of consecutive characters in `'Good morning !!!'` are `'oo'` and `'!!!'`. Your task is to complete the generator below (only fill in the body of **`findDuplicateSequence()`**)."
      ]
    },
    {
      "cell_type": "code",
      "metadata": {
        "id": "OgKRE6WvL9Ls"
      },
      "source": [
        "def findDuplicateSequence(s):\n",
        "    # YOU CAN ONLY EDIT BELOW THIS LINE\n",
        "    i = next(s, 'end')\n",
        "    if i != 'end':\n",
        "      j = next(s, 'end')\n",
        "      if j != 'end':  \n",
        "        temp = i\n",
        "        while (True):\n",
        "          if j == i:  temp += j\n",
        "          else:\n",
        "            if len(temp) > 1: yield temp\n",
        "            i, temp = j, j\n",
        "          j = next(s, 'end')\n",
        "          if j == 'end':\n",
        "            if len(temp) > 1: yield temp\n",
        "            break"
      ],
      "execution_count": 1,
      "outputs": []
    },
    {
      "cell_type": "code",
      "source": [
        "# DO NOT EDIT THIS CELL, YOU CAN USE THIS TO CHECK THE CODE IN THE PREVIOUS CELL\n",
        "\n",
        "print(repr(next(findDuplicateSequence(iter('aabccccedaaa'))))) # 'aa'\n",
        "print(list(findDuplicateSequence(iter('aabccccedaaa')))) # 'aa', 'cccc', 'aaa'\n",
        "print(list(findDuplicateSequence(iter('Good morning!!!')))) # 'oo', '!!!'"
      ],
      "metadata": {
        "colab": {
          "base_uri": "https://localhost:8080/"
        },
        "id": "dKyZwsCq9Ldd",
        "outputId": "361b18d0-ed82-44f1-bc99-851cd4e304a6"
      },
      "execution_count": 2,
      "outputs": [
        {
          "output_type": "stream",
          "name": "stdout",
          "text": [
            "'aa'\n",
            "['aa', 'cccc', 'aaa']\n",
            "['oo', '!!!']\n"
          ]
        }
      ]
    },
    {
      "cell_type": "markdown",
      "metadata": {
        "id": "4D1Sn_NiL9Ls"
      },
      "source": [
        "\n",
        "## Task 2 (10 points)\n",
        "\n",
        "We are greatly inspired by the [Consumer Complaints](https://github.com/InsightDataScience/consumer_complaints) challenge from [InsightDataScience](https://github.com/InsightDataScience/). In fact, we are going to tackle the same challenge but streaming. Please read through the challenge at the following link (the most important sections are “Input dataset” and “Expected output”):\n",
        "\n",
        "<https://github.com/InsightDataScience/consumer_complaints>\n",
        "\n",
        "Our problem is different than the one above in that the INPUT is also <ins>sorted by product (alphabetically) and year (ascending)</ins>, similar to the requested output format. You are asked to complete the generator below to produce the expected output. You should not edit any other code.\n",
        "\n",
        "### INPUT\n",
        "Your code will be evaluated against the original data set (in CSV format) downloaded from the below link (of course with a sorted version). For your convenience, a smaller version of the file is provided below for testing purposes.\n",
        "\n",
        "https://www.consumerfinance.gov/data-research/consumer-complaints/#download-the-data\n",
        "\n"
      ]
    },
    {
      "cell_type": "code",
      "metadata": {
        "id": "Xf4WQNpEi021",
        "colab": {
          "base_uri": "https://localhost:8080/"
        },
        "outputId": "3f2d103f-e61e-4d2f-a237-40519e087ab8"
      },
      "source": [
        "!gdown --id 1-IeoZDwT5wQzBUpsaS5B6vTaP-2ZBkam -O complaints.csv\n",
        "!head -n 1 complaints.csv"
      ],
      "execution_count": 3,
      "outputs": [
        {
          "output_type": "stream",
          "name": "stdout",
          "text": [
            "Downloading...\n",
            "From: https://drive.google.com/uc?id=1-IeoZDwT5wQzBUpsaS5B6vTaP-2ZBkam\n",
            "To: /content/complaints.csv\n",
            "100% 3.91M/3.91M [00:00<00:00, 17.2MB/s]\n",
            "Date received,Product,Sub-product,Issue,Sub-issue,Consumer complaint narrative,Company public response,Company,State,ZIP code,Tags,Consumer consent provided?,Submitted via,Date sent to company,Company response to consumer,Timely response?,Consumer disputed?,Complaint ID\n"
          ]
        }
      ]
    },
    {
      "cell_type": "code",
      "source": [
        "def task2(reader):\n",
        "  def mapper(_, reader):\n",
        "    yield ((reader['Product'].lower(), reader['Date received'].split('-')[0]), reader['Company'].lower())\n",
        "\n",
        "  def reducer(record, counts):\n",
        "    yield (str(record[0]), str(record[1]), len(counts), len(set(counts)), round(100 * max([counts.count(i) / len(counts) for i in set(counts)])))\n",
        "\n",
        "  return list(mr.run(enumerate(reader), mapper, reducer))"
      ],
      "metadata": {
        "id": "gy76JBn12RFh"
      },
      "execution_count": 4,
      "outputs": []
    },
    {
      "cell_type": "code",
      "source": [
        "# DO NOT EDIT THIS CELL, YOU CAN RUN TO QUICKLY CHECK YOUR RESULTS\n",
        "\n",
        "import csv\n",
        "import mapreduce as mr\n",
        "with open('complaints.csv', 'r') as fi, open('output.csv', 'w') as fo:\n",
        "  reader = csv.DictReader(fi)\n",
        "  writer = csv.writer(fo)\n",
        "  for row in task2(reader):\n",
        "    writer.writerow(row)\n",
        "\n",
        "!head output.csv"
      ],
      "metadata": {
        "colab": {
          "base_uri": "https://localhost:8080/"
        },
        "id": "kV9t4-bcHGB9",
        "outputId": "e621fe4b-5fdc-433e-9225-ea2b2b04dcc7"
      },
      "execution_count": 5,
      "outputs": [
        {
          "output_type": "stream",
          "name": "stdout",
          "text": [
            "bank account or service,2015,1,1,100\r\n",
            "bank account or service,2016,2,2,50\r\n",
            "checking or savings account,2017,1,1,100\r\n",
            "checking or savings account,2018,20,10,25\r\n",
            "checking or savings account,2019,461,72,13\r\n",
            "checking or savings account,2020,3,3,33\r\n",
            "consumer loan,2015,1,1,100\r\n",
            "consumer loan,2016,1,1,100\r\n",
            "consumer loan,2017,1,1,100\r\n",
            "credit card,2016,4,4,25\r\n"
          ]
        }
      ]
    },
    {
      "cell_type": "code",
      "source": [
        "#Another version with mapreduce method, but not generator\n",
        "\n",
        "# def returnInfo(reader):\n",
        "#   time = reader['Date received'].split('-')\n",
        "#   return (reader['Product'].lower(), reader['Company'].lower(), time[0])\n",
        "\n",
        "# def union_companies_for_product_and_year(result, record):\n",
        "#   product, company, year = record[0], record[1], record[2]\n",
        "#   result[(product, year)] = result.get((product, year), []) + [company]\n",
        "#   return result\n",
        "\n",
        "# def combine_result_func(result, record):\n",
        "#   product, year, companies = record[0], record[1], record[2]\n",
        "#   highest_percent = 0\n",
        "#   for company in set(companies):\n",
        "#     highest_percent = max(highest_percent, companies.count(company) / len(companies))\n",
        "#   result[(product, year)] = result.get((product, year), []) + [len(companies), len(set(companies)), round(100 * highest_percent)]\n",
        "#   return result\n",
        "\n",
        "# def output_format(record):\n",
        "#   return (record[0], record[1], record[2][0], record[2][1], record[2][2])"
      ],
      "metadata": {
        "id": "WWUjhzE1TuvY"
      },
      "execution_count": 6,
      "outputs": []
    }
  ]
}