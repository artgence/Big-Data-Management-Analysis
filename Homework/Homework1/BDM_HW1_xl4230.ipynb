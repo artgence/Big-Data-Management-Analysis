{
 "cells": [
  {
   "cell_type": "markdown",
   "metadata": {
    "id": "lvnKTXzOO5p_"
   },
   "source": [
    "# Homework 1 - Streaming (15 pts)\n",
    "\n",
    "Please turn in your note book naming as **BDM\\_HW1\\_NetID.ipynb**."
   ]
  },
  {
   "cell_type": "markdown",
   "metadata": {
    "id": "MGjOHTNOL9Lr"
   },
   "source": [
    "\n",
    "## Task 1 (5 points)\n",
    "\n",
    "You are asked to write a Python generator that takes a sequence of characters as input (think of it as a string iterator that can only be traversed forward) and returns a generator of substrings containing consecutive characters in the string. For example, substrings of consecutive characters in `'Good morning !!!'` are `'oo'` and `'!!!'`. Your task is to complete the generator below (only fill in the body of **`findDuplicateSequence()`**)."
   ]
  },
  {
   "cell_type": "code",
   "execution_count": 1,
   "metadata": {
    "id": "OgKRE6WvL9Ls"
   },
   "outputs": [],
   "source": [
    "def findDuplicateSequence(s):\n",
    "    # YOU CAN ONLY EDIT BELOW THIS LINE\n",
    "    i = next(s, 'end')\n",
    "    if i != 'end':\n",
    "      j = next(s, 'end')\n",
    "      if j != 'end':  \n",
    "        temp = i\n",
    "        while (True):\n",
    "          if j == i:  temp += j\n",
    "          else:\n",
    "            if len(temp) > 1: yield temp\n",
    "            i, temp = j, j\n",
    "          j = next(s, 'end')\n",
    "          if j == 'end':\n",
    "            if len(temp) > 1: yield temp\n",
    "            break"
   ]
  },
  {
   "cell_type": "code",
   "execution_count": 2,
   "metadata": {},
   "outputs": [],
   "source": [
    "def findDuplicateSequence(s):\n",
    "    from itertools import groupby\n",
    "    yield from filter(lambda y: len(y)>1, map(lambda x: ''.join(x[1]), groupby(s)))"
   ]
  },
  {
   "cell_type": "code",
   "execution_count": 3,
   "metadata": {
    "colab": {
     "base_uri": "https://localhost:8080/"
    },
    "id": "dKyZwsCq9Ldd",
    "outputId": "361b18d0-ed82-44f1-bc99-851cd4e304a6"
   },
   "outputs": [
    {
     "name": "stdout",
     "output_type": "stream",
     "text": [
      "'aa'\n",
      "['aa', 'cccc', 'aaa']\n",
      "['oo', '!!!']\n"
     ]
    }
   ],
   "source": [
    "# DO NOT EDIT THIS CELL, YOU CAN USE THIS TO CHECK THE CODE IN THE PREVIOUS CELL\n",
    "\n",
    "print(repr(next(findDuplicateSequence(iter('aabccccedaaa'))))) # 'aa'\n",
    "print(list(findDuplicateSequence(iter('aabccccedaaa')))) # 'aa', 'cccc', 'aaa'\n",
    "print(list(findDuplicateSequence(iter('Good morning!!!')))) # 'oo', '!!!'"
   ]
  },
  {
   "cell_type": "markdown",
   "metadata": {
    "id": "4D1Sn_NiL9Ls"
   },
   "source": [
    "\n",
    "## Task 2 (10 points)\n",
    "\n",
    "We are greatly inspired by the [Consumer Complaints](https://github.com/InsightDataScience/consumer_complaints) challenge from [InsightDataScience](https://github.com/InsightDataScience/). In fact, we are going to tackle the same challenge but streaming. Please read through the challenge at the following link (the most important sections are “Input dataset” and “Expected output”):\n",
    "\n",
    "<https://github.com/InsightDataScience/consumer_complaints>\n",
    "\n",
    "Our problem is different than the one above in that the INPUT is also <ins>sorted by product (alphabetically) and year (ascending)</ins>, similar to the requested output format. You are asked to complete the generator below to produce the expected output. You should not edit any other code.\n",
    "\n",
    "### INPUT\n",
    "Your code will be evaluated against the original data set (in CSV format) downloaded from the below link (of course with a sorted version). For your convenience, a smaller version of the file is provided below for testing purposes.\n",
    "\n",
    "https://www.consumerfinance.gov/data-research/consumer-complaints/#download-the-data\n",
    "\n"
   ]
  },
  {
   "cell_type": "code",
   "execution_count": 4,
   "metadata": {
    "colab": {
     "base_uri": "https://localhost:8080/"
    },
    "id": "Xf4WQNpEi021",
    "outputId": "3f2d103f-e61e-4d2f-a237-40519e087ab8"
   },
   "outputs": [],
   "source": [
    "# !gdown --id 1-IeoZDwT5wQzBUpsaS5B6vTaP-2ZBkam -O complaints.csv\n",
    "# !head -n 1 complaints.csv"
   ]
  },
  {
   "cell_type": "code",
   "execution_count": 5,
   "metadata": {
    "id": "gy76JBn12RFh"
   },
   "outputs": [],
   "source": [
    "def task2(reader):\n",
    "  def mapper(_, reader):\n",
    "    yield ((reader['Product'].lower(), reader['Date received'].split('-')[0]), reader['Company'].lower())\n",
    "\n",
    "  def reducer(record, counts):\n",
    "    yield (str(record[0]), str(record[1]), len(counts), len(set(counts)), round(100 * max([counts.count(i) / len(counts) for i in set(counts)])))\n",
    "\n",
    "  yield list(mr.run(enumerate(reader), mapper, reducer))"
   ]
  },
  {
   "cell_type": "code",
   "execution_count": 6,
   "metadata": {
    "colab": {
     "base_uri": "https://localhost:8080/"
    },
    "id": "kV9t4-bcHGB9",
    "outputId": "e621fe4b-5fdc-433e-9225-ea2b2b04dcc7"
   },
   "outputs": [
    {
     "name": "stdout",
     "output_type": "stream",
     "text": [
      "\"('bank account or service', '2015', 1, 1, 100)\",\"('bank account or service', '2016', 2, 2, 50)\",\"('checking or savings account', '2017', 1, 1, 100)\",\"('checking or savings account', '2018', 20, 10, 25)\",\"('checking or savings account', '2019', 461, 72, 13)\",\"('checking or savings account', '2020', 3, 3, 33)\",\"('consumer loan', '2015', 1, 1, 100)\",\"('consumer loan', '2016', 1, 1, 100)\",\"('consumer loan', '2017', 1, 1, 100)\",\"('credit card', '2016', 4, 4, 25)\",\"('credit card', '2017', 1, 1, 100)\",\"('credit card or prepaid card', '2017', 1, 1, 100)\",\"('credit card or prepaid card', '2018', 27, 12, 33)\",\"('credit card or prepaid card', '2019', 437, 42, 15)\",\"('credit card or prepaid card', '2020', 13, 10, 23)\",\"('credit reporting, credit repair services, or other personal consumer reports', '2017', 7, 5, 29)\",\"('credit reporting, credit repair services, or other personal consumer reports', '2018', 238, 22, 56)\",\"('credit reporting, credit repair services, or other personal consumer reports', '2019', 3114, 203, 50)\",\"('credit reporting, credit repair services, or other personal consumer reports', '2020', 144, 10, 51)\",\"('debt collection', '2015', 4, 3, 50)\",\"('debt collection', '2016', 10, 4, 60)\",\"('debt collection', '2017', 13, 11, 15)\",\"('debt collection', '2018', 47, 33, 15)\",\"('debt collection', '2019', 1130, 400, 6)\",\"('debt collection', '2020', 27, 23, 19)\",\"('money transfer, virtual currency, or money service', '2017', 1, 1, 100)\",\"('money transfer, virtual currency, or money service', '2018', 3, 3, 33)\",\"('money transfer, virtual currency, or money service', '2019', 87, 33, 33)\",\"('money transfer, virtual currency, or money service', '2020', 2, 2, 50)\",\"('mortgage', '2015', 1, 1, 100)\",\"('mortgage', '2016', 1, 1, 100)\",\"('mortgage', '2017', 3, 3, 33)\",\"('mortgage', '2018', 39, 27, 10)\",\"('mortgage', '2019', 415, 98, 10)\",\"('mortgage', '2020', 6, 6, 17)\",\"('payday loan', '2016', 1, 1, 100)\",\"('payday loan, title loan, or personal loan', '2018', 7, 2, 86)\",\"('payday loan, title loan, or personal loan', '2019', 84, 54, 6)\",\"('payday loan, title loan, or personal loan', '2020', 1, 1, 100)\",\"('student loan', '2018', 2, 2, 50)\",\"('student loan', '2019', 157, 37, 37)\",\"('student loan', '2020', 1, 1, 100)\",\"('vehicle loan or lease', '2017', 2, 2, 50)\",\"('vehicle loan or lease', '2018', 10, 9, 20)\",\"('vehicle loan or lease', '2019', 90, 47, 7)\",\"('vehicle loan or lease', '2020', 2, 2, 50)\"\r",
      "\r\n"
     ]
    }
   ],
   "source": [
    "# DO NOT EDIT THIS CELL, YOU CAN RUN TO QUICKLY CHECK YOUR RESULTS\n",
    "\n",
    "import csv\n",
    "import mapreduce as mr\n",
    "with open('complaints.csv', 'r') as fi, open('output.csv', 'w') as fo:\n",
    "  reader = csv.DictReader(fi)\n",
    "  writer = csv.writer(fo)\n",
    "  for row in task2(reader):\n",
    "    writer.writerow(row)\n",
    "\n",
    "!head output.csv"
   ]
  },
  {
   "cell_type": "code",
   "execution_count": 7,
   "metadata": {
    "id": "WWUjhzE1TuvY"
   },
   "outputs": [],
   "source": [
    "#Another version with mapreduce method, but not generator\n",
    "\n",
    "# def returnInfo(reader):\n",
    "#   time = reader['Date received'].split('-')\n",
    "#   return (reader['Product'].lower(), reader['Company'].lower(), time[0])\n",
    "\n",
    "# def union_companies_for_product_and_year(result, record):\n",
    "#   product, company, year = record[0], record[1], record[2]\n",
    "#   result[(product, year)] = result.get((product, year), []) + [company]\n",
    "#   return result\n",
    "\n",
    "# def combine_result_func(result, record):\n",
    "#   product, year, companies = record[0], record[1], record[2]\n",
    "#   highest_percent = 0\n",
    "#   for company in set(companies):\n",
    "#     highest_percent = max(highest_percent, companies.count(company) / len(companies))\n",
    "#   result[(product, year)] = result.get((product, year), []) + [len(companies), len(set(companies)), round(100 * highest_percent)]\n",
    "#   return result\n",
    "\n",
    "# def output_format(record):\n",
    "#   return (record[0], record[1], record[2][0], record[2][1], record[2][2])"
   ]
  }
 ],
 "metadata": {
  "colab": {
   "collapsed_sections": [],
   "name": "BDM_HW1_xl4230",
   "provenance": []
  },
  "kernelspec": {
   "display_name": "Python 3 (ipykernel)",
   "language": "python",
   "name": "python3"
  },
  "language_info": {
   "codemirror_mode": {
    "name": "ipython",
    "version": 3
   },
   "file_extension": ".py",
   "mimetype": "text/x-python",
   "name": "python",
   "nbconvert_exporter": "python",
   "pygments_lexer": "ipython3",
   "version": "3.7.11"
  }
 },
 "nbformat": 4,
 "nbformat_minor": 1
}
