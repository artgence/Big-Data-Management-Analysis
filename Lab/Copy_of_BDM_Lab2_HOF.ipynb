{
  "nbformat": 4,
  "nbformat_minor": 0,
  "metadata": {
    "kernelspec": {
      "name": "python3",
      "display_name": "Python 3"
    },
    "colab": {
      "name": "Copy of BDM_Lab2_HOF",
      "provenance": [],
      "collapsed_sections": [],
      "toc_visible": true
    }
  },
  "cells": [
    {
      "cell_type": "markdown",
      "metadata": {
        "id": "fziEwywHbY2V"
      },
      "source": [
        "# Lab 2 - Higher-Order Functions\n",
        "\n",
        "In this lab, we will practice Python's higher order functions, in particular, `map()`, `filter()`, and `reduce()`. Please complete all the tasks below."
      ]
    },
    {
      "cell_type": "markdown",
      "source": [
        "## Task 0\n",
        "\n",
        "Let's start with with some `lambda` exercises."
      ],
      "metadata": {
        "id": "tRS7B5TvSGpC"
      }
    },
    {
      "cell_type": "markdown",
      "metadata": {
        "id": "aCy9ZXhXL9Lo"
      },
      "source": [
        "\n",
        "### Sub-Task 0.1\n",
        "\n",
        "Please complete the **lambda f1** definition below by filling in the _________ part. **f1** is expected to take a single string argument and returns whether the string can be converted to a natural number or zero. If it's possible, returns **'Number'**, otherwise returns **'Not a number'**. For example *'0123'* is a valid number 'Number', whereas *'0xff'* is not."
      ]
    },
    {
      "cell_type": "code",
      "metadata": {
        "id": "_ZGEp6bsL9Lp",
        "outputId": "e3d3a4b0-994a-49e0-92c8-e62e6ac46eb2",
        "colab": {
          "base_uri": "https://localhost:8080/"
        }
      },
      "source": [
        "f1 = lambda x: 'Number' if x.isnumeric() else 'Not a Number'\n",
        "print(f1('1A'))\n",
        "print(f1('12'))\n",
        "print(f1('b1'))"
      ],
      "execution_count": null,
      "outputs": [
        {
          "output_type": "stream",
          "name": "stdout",
          "text": [
            "Not a Number\n",
            "Number\n",
            "Not a Number\n"
          ]
        }
      ]
    },
    {
      "cell_type": "markdown",
      "metadata": {
        "id": "tk3arVyKL9Lq"
      },
      "source": [
        "\n",
        "### Sub-Task 0.2\n",
        "\n",
        "Please complete the **lambda f2** definition below by filling in the _________ part. **f2** takes a single iterable (e.g. a list or a string), and returns the number of unique elements. Please see the sample output below."
      ]
    },
    {
      "cell_type": "code",
      "metadata": {
        "id": "OH6LEFSzL9Lr",
        "outputId": "e88d2332-6579-4cc2-e29c-19ba712c8d8e",
        "colab": {
          "base_uri": "https://localhost:8080/"
        }
      },
      "source": [
        "f2 = lambda x: len(set(x))\n",
        "print(f2([1,2,3,4,1,5,2]))\n",
        "print(f2('hello world'))"
      ],
      "execution_count": null,
      "outputs": [
        {
          "output_type": "stream",
          "name": "stdout",
          "text": [
            "5\n",
            "8\n"
          ]
        }
      ]
    },
    {
      "cell_type": "markdown",
      "metadata": {
        "id": "MGjOHTNOL9Lr"
      },
      "source": [
        "\n",
        "### Sub-Task 0.3\n",
        "\n",
        "Please complete the **lambda f3** definition below by filling in the _________ part. **f3** takes two strings *x* and *y*, and return all the words in *x* that do not appear in *y*. Please note that the word comparison iscase insensitive. Samples area also provided below."
      ]
    },
    {
      "cell_type": "code",
      "metadata": {
        "id": "OgKRE6WvL9Ls",
        "outputId": "022ae2cc-eaa5-4ff5-c4a3-0fcb46402736",
        "colab": {
          "base_uri": "https://localhost:8080/"
        }
      },
      "source": [
        "f3 = lambda x, y: list(set(x.split()) - set(y.split()))\n",
        "print(f3('big data management and analysis', 'big data computing'))\n",
        "print(f3('this is a phrase', 'this is another phrase'))"
      ],
      "execution_count": null,
      "outputs": [
        {
          "output_type": "stream",
          "name": "stdout",
          "text": [
            "['and', 'analysis', 'management']\n",
            "['a']\n"
          ]
        }
      ]
    },
    {
      "cell_type": "markdown",
      "metadata": {
        "id": "SSXBq-T6R_w0"
      },
      "source": [
        "## Task 1\n",
        "\n",
        "You are provided a list of service status updates scraped from an MTA information website. Each update may indicate <i>Good Service</i>, <i>Planned Work</i>, or <i>Delays</i> for one or more subway lines. Our first objective is to list all the lines that are running with <i>Delays</i>. To guide you through the process, our problem are also split into smaller tasks."
      ]
    },
    {
      "cell_type": "code",
      "metadata": {
        "collapsed": true,
        "id": "G2yOBehdbY2b"
      },
      "source": [
        "from functools import reduce\n",
        "\n",
        "# This is your input data, a list of subway line status.\n",
        "# It is a list of string in a specific format\n",
        "\n",
        "status = [\n",
        "    '1,2,3 : Good Service',\n",
        "    '4,5,6 : Delays',\n",
        "    '7 : Good Service',\n",
        "    'A,C : Good Service',\n",
        "    'E : Planned Work',\n",
        "    'G : Delays',\n",
        "    'B,D,F,M : Good Service',\n",
        "    'J,Z : Delays',\n",
        "    'L : Good Service',\n",
        "    'N,Q,R : Planned Work',\n",
        "    'S : Good Service',\n",
        "]"
      ],
      "execution_count": null,
      "outputs": []
    },
    {
      "cell_type": "markdown",
      "metadata": {
        "id": "8NDOXI_LbY2d"
      },
      "source": [
        "### Sub-Task 1.1\n",
        "\n",
        "Please complete the lambda expression to filter only the status updates for the lines that run with <i>Delays</i>."
      ]
    },
    {
      "cell_type": "code",
      "metadata": {
        "id": "-F43ejkdbY2d",
        "colab": {
          "base_uri": "https://localhost:8080/"
        },
        "outputId": "0abe6856-6efd-43bc-fbaf-cf7dabbd2977"
      },
      "source": [
        "delayUpdates = list(filter(lambda x: 'Delays' in x, status))\n",
        "print(delayUpdates)\n",
        "\n",
        "# After this, your delayUpdates should be\n",
        "# ['4,5,6 : Delays', 'G : Delays', 'J,Z : Delays']"
      ],
      "execution_count": null,
      "outputs": [
        {
          "output_type": "stream",
          "name": "stdout",
          "text": [
            "['4,5,6 : Delays', 'G : Delays', 'J,Z : Delays']\n"
          ]
        }
      ]
    },
    {
      "cell_type": "markdown",
      "metadata": {
        "id": "gGbjL4_1bY2e"
      },
      "source": [
        "### Sub-Task 1.2\n",
        "\n",
        "Please complete the lambda expression below to convert each status line into a list of subway lines, i.e. <b><i>'4,5,6 : Delays'</i></b> would become <b><i>['4','5','6']</i></b>"
      ]
    },
    {
      "cell_type": "code",
      "metadata": {
        "id": "PSBC3ni-bY2e",
        "colab": {
          "base_uri": "https://localhost:8080/"
        },
        "outputId": "1db2966f-c634-4a81-deb6-78530adbb621"
      },
      "source": [
        "delayLineList = list(map(lambda x: x.split(' : ')[0].split(',') ,delayUpdates))\n",
        "\n",
        "print(delayLineList)\n",
        "\n",
        "# After this, your delayLineList should be\n",
        "# [['4', '5', '6'], ['G'], ['J', 'Z']]"
      ],
      "execution_count": null,
      "outputs": [
        {
          "output_type": "stream",
          "name": "stdout",
          "text": [
            "[['4', '5', '6'], ['G'], ['J', 'Z']]\n"
          ]
        }
      ]
    },
    {
      "cell_type": "markdown",
      "metadata": {
        "id": "vuBXQFCTbY2e"
      },
      "source": [
        "### Sub-Task 1.3\n",
        "\n",
        "Please complete the reduce command below to convert each the list of subway lists given in <i>delayLineList</i> into a single list of subway lines running with delay."
      ]
    },
    {
      "cell_type": "code",
      "metadata": {
        "id": "PE8kWq4NbY2f",
        "colab": {
          "base_uri": "https://localhost:8080/"
        },
        "outputId": "07cb227e-c7c3-48ea-8b04-899c7db17858"
      },
      "source": [
        "delayLines = reduce(lambda x,y: x+y, delayLineList, [])\n",
        "\n",
        "print(delayLines)\n",
        "\n",
        "# After this, your delayLines should be\n",
        "# ['4', '5', '6', 'G', 'J', 'Z']"
      ],
      "execution_count": null,
      "outputs": [
        {
          "output_type": "stream",
          "name": "stdout",
          "text": [
            "['4', '5', '6', 'G', 'J', 'Z']\n"
          ]
        }
      ]
    },
    {
      "cell_type": "markdown",
      "metadata": {
        "id": "1J38AMIjbY2f"
      },
      "source": [
        "### Sub-Task 1.4\n",
        "\n",
        "Please complete the reduce command below to count the number of lines in <b>delayLines</b>."
      ]
    },
    {
      "cell_type": "code",
      "metadata": {
        "id": "MYPBrOkubY2f",
        "colab": {
          "base_uri": "https://localhost:8080/"
        },
        "outputId": "20a8b247-c7eb-498a-e88a-14f90855c2f7"
      },
      "source": [
        "delayLineCount = reduce(lambda x,_: x+1, delayLines, 0)\n",
        "\n",
        "print(delayLineCount)\n",
        "\n",
        "# After this, your delayLineCount should be\n",
        "# 6"
      ],
      "execution_count": null,
      "outputs": [
        {
          "output_type": "stream",
          "name": "stdout",
          "text": [
            "6\n"
          ]
        }
      ]
    },
    {
      "cell_type": "markdown",
      "metadata": {
        "id": "x0wFCtPUbY2g"
      },
      "source": [
        "## Task 2\n",
        "\n",
        "In this excercise, we would like to expand the combined service updatse into separate updates for each subway line. For example, instead of having a single line <b>'1,2,3 : Good Service'</b> to indicate that line 1, 2, and 3 are in good service, we would like to convert that into 3 separate updates: <b>'1 : Good Service'</b>, <b>'2 : Good Service'</b>, and <b>'3 : Good Service'</b>.\n",
        "\n",
        "You are tasked to write a chain of map(), filter(), and/or reduce() to convert the <b>status</b> variable into the list below. Please note that you may only use higher order functions without access to global variables. Your expression should contain only map(), filter() and/or reduce() and your custom function definitions."
      ]
    },
    {
      "cell_type": "code",
      "source": [
        "x = '1,2,3 : Good Service'\n",
        "\n",
        "def explore(x):\n",
        "  lines, status = x.split(\" : \")\n",
        "  return list(map(lambda l: l + \" : \" + status, lines.split(',')))\n",
        "  \n",
        "explore(x) "
      ],
      "metadata": {
        "colab": {
          "base_uri": "https://localhost:8080/"
        },
        "id": "JLX-cP-D8eyO",
        "outputId": "d82901b9-ec54-46c4-dda9-555f9478196e"
      },
      "execution_count": null,
      "outputs": [
        {
          "output_type": "execute_result",
          "data": {
            "text/plain": [
              "['1 : Good Service', '2 : Good Service', '3 : Good Service']"
            ]
          },
          "metadata": {},
          "execution_count": 31
        }
      ]
    },
    {
      "cell_type": "code",
      "source": [
        "list(map(explore, status))"
      ],
      "metadata": {
        "colab": {
          "base_uri": "https://localhost:8080/"
        },
        "id": "6MjyQzkj-C4d",
        "outputId": "a6d658e2-8890-49e3-e69d-414be3848c73"
      },
      "execution_count": null,
      "outputs": [
        {
          "output_type": "execute_result",
          "data": {
            "text/plain": [
              "[['1 : Good Service', '2 : Good Service', '3 : Good Service'],\n",
              " ['4 : Delays', '5 : Delays', '6 : Delays'],\n",
              " ['7 : Good Service'],\n",
              " ['A : Good Service', 'C : Good Service'],\n",
              " ['E : Planned Work'],\n",
              " ['G : Delays'],\n",
              " ['B : Good Service',\n",
              "  'D : Good Service',\n",
              "  'F : Good Service',\n",
              "  'M : Good Service'],\n",
              " ['J : Delays', 'Z : Delays'],\n",
              " ['L : Good Service'],\n",
              " ['N : Planned Work', 'Q : Planned Work', 'R : Planned Work'],\n",
              " ['S : Good Service']]"
            ]
          },
          "metadata": {},
          "execution_count": 34
        }
      ]
    },
    {
      "cell_type": "code",
      "metadata": {
        "id": "dFVRkD4GbY2g",
        "colab": {
          "base_uri": "https://localhost:8080/"
        },
        "outputId": "56570a10-c393-45df-b83e-9210e2213193"
      },
      "source": [
        "\n",
        "updates = reduce(lambda x,y: x+y, map(explore, status))\n",
        "\n",
        "updates"
      ],
      "execution_count": null,
      "outputs": [
        {
          "output_type": "execute_result",
          "data": {
            "text/plain": [
              "['1 : Good Service',\n",
              " '2 : Good Service',\n",
              " '3 : Good Service',\n",
              " '4 : Delays',\n",
              " '5 : Delays',\n",
              " '6 : Delays',\n",
              " '7 : Good Service',\n",
              " 'A : Good Service',\n",
              " 'C : Good Service',\n",
              " 'E : Planned Work',\n",
              " 'G : Delays',\n",
              " 'B : Good Service',\n",
              " 'D : Good Service',\n",
              " 'F : Good Service',\n",
              " 'M : Good Service',\n",
              " 'J : Delays',\n",
              " 'Z : Delays',\n",
              " 'L : Good Service',\n",
              " 'N : Planned Work',\n",
              " 'Q : Planned Work',\n",
              " 'R : Planned Work',\n",
              " 'S : Good Service']"
            ]
          },
          "metadata": {},
          "execution_count": 32
        }
      ]
    },
    {
      "cell_type": "markdown",
      "metadata": {
        "collapsed": true,
        "id": "r_XP2lTabY2h"
      },
      "source": [
        "## Task 3\n",
        "\n",
        "In this excercise, you are tasked to perform a similar task as in Task 3 of Lab 1 but extracting the birth year of the first 'Subscriber' ride of the day from the *citibike.csv*. However, instead of iterating through the stream using generators, you are asked to complete the task using higher order functions map(), filter() and/or reduce(). You are free to define additional functions to be used in your higher order functions, however, you are not allowed to use global variables within these functions without being passed in as arguments."
      ]
    },
    {
      "cell_type": "code",
      "metadata": {
        "id": "Xf4WQNpEi021",
        "colab": {
          "base_uri": "https://localhost:8080/"
        },
        "outputId": "bc762512-2a9d-4e12-ba49-85e17846e516"
      },
      "source": [
        "!gdown --id 1I8eqA1Zy3vFq4mN8z0ZRl7ABXrdzCRYI -O citibike.csv"
      ],
      "execution_count": null,
      "outputs": [
        {
          "output_type": "stream",
          "name": "stdout",
          "text": [
            "Downloading...\n",
            "From: https://drive.google.com/uc?id=1I8eqA1Zy3vFq4mN8z0ZRl7ABXrdzCRYI\n",
            "To: /content/citibike.csv\n",
            "\r  0% 0.00/8.16M [00:00<?, ?B/s]\r100% 8.16M/8.16M [00:00<00:00, 103MB/s]\n"
          ]
        }
      ]
    },
    {
      "cell_type": "code",
      "source": [
        "import pandas as pd\n",
        "\n",
        "pd.read_csv('citibike.csv').head()"
      ],
      "metadata": {
        "colab": {
          "base_uri": "https://localhost:8080/",
          "height": 353
        },
        "id": "_6CXfwYWBvmQ",
        "outputId": "9760bea8-2563-4362-c344-71b3bfa5be38"
      },
      "execution_count": null,
      "outputs": [
        {
          "output_type": "execute_result",
          "data": {
            "text/html": [
              "\n",
              "  <div id=\"df-f7220ad2-9bb6-4645-a302-72f796022f58\">\n",
              "    <div class=\"colab-df-container\">\n",
              "      <div>\n",
              "<style scoped>\n",
              "    .dataframe tbody tr th:only-of-type {\n",
              "        vertical-align: middle;\n",
              "    }\n",
              "\n",
              "    .dataframe tbody tr th {\n",
              "        vertical-align: top;\n",
              "    }\n",
              "\n",
              "    .dataframe thead th {\n",
              "        text-align: right;\n",
              "    }\n",
              "</style>\n",
              "<table border=\"1\" class=\"dataframe\">\n",
              "  <thead>\n",
              "    <tr style=\"text-align: right;\">\n",
              "      <th></th>\n",
              "      <th>cartodb_id</th>\n",
              "      <th>the_geom</th>\n",
              "      <th>tripduration</th>\n",
              "      <th>starttime</th>\n",
              "      <th>stoptime</th>\n",
              "      <th>start_station_id</th>\n",
              "      <th>start_station_name</th>\n",
              "      <th>start_station_latitude</th>\n",
              "      <th>start_station_longitude</th>\n",
              "      <th>end_station_id</th>\n",
              "      <th>end_station_name</th>\n",
              "      <th>end_station_latitude</th>\n",
              "      <th>end_station_longitude</th>\n",
              "      <th>bikeid</th>\n",
              "      <th>usertype</th>\n",
              "      <th>birth_year</th>\n",
              "      <th>gender</th>\n",
              "    </tr>\n",
              "  </thead>\n",
              "  <tbody>\n",
              "    <tr>\n",
              "      <th>0</th>\n",
              "      <td>1</td>\n",
              "      <td>NaN</td>\n",
              "      <td>801</td>\n",
              "      <td>2015-02-01 00:00:00+00</td>\n",
              "      <td>2015-02-01 00:14:00+00</td>\n",
              "      <td>521</td>\n",
              "      <td>8 Ave &amp; W 31 St</td>\n",
              "      <td>40.750450</td>\n",
              "      <td>-73.994811</td>\n",
              "      <td>423</td>\n",
              "      <td>W 54 St &amp; 9 Ave</td>\n",
              "      <td>40.765849</td>\n",
              "      <td>-73.986905</td>\n",
              "      <td>17131</td>\n",
              "      <td>Subscriber</td>\n",
              "      <td>1978.0</td>\n",
              "      <td>2</td>\n",
              "    </tr>\n",
              "    <tr>\n",
              "      <th>1</th>\n",
              "      <td>2</td>\n",
              "      <td>NaN</td>\n",
              "      <td>379</td>\n",
              "      <td>2015-02-01 00:00:00+00</td>\n",
              "      <td>2015-02-01 00:07:00+00</td>\n",
              "      <td>497</td>\n",
              "      <td>E 17 St &amp; Broadway</td>\n",
              "      <td>40.737050</td>\n",
              "      <td>-73.990093</td>\n",
              "      <td>504</td>\n",
              "      <td>1 Ave &amp; E 15 St</td>\n",
              "      <td>40.732219</td>\n",
              "      <td>-73.981656</td>\n",
              "      <td>21289</td>\n",
              "      <td>Subscriber</td>\n",
              "      <td>1993.0</td>\n",
              "      <td>1</td>\n",
              "    </tr>\n",
              "    <tr>\n",
              "      <th>2</th>\n",
              "      <td>3</td>\n",
              "      <td>NaN</td>\n",
              "      <td>2474</td>\n",
              "      <td>2015-02-01 00:01:00+00</td>\n",
              "      <td>2015-02-01 00:42:00+00</td>\n",
              "      <td>281</td>\n",
              "      <td>Grand Army Plaza &amp; Central Park S</td>\n",
              "      <td>40.764397</td>\n",
              "      <td>-73.973715</td>\n",
              "      <td>127</td>\n",
              "      <td>Barrow St &amp; Hudson St</td>\n",
              "      <td>40.731724</td>\n",
              "      <td>-74.006744</td>\n",
              "      <td>18903</td>\n",
              "      <td>Subscriber</td>\n",
              "      <td>1969.0</td>\n",
              "      <td>2</td>\n",
              "    </tr>\n",
              "    <tr>\n",
              "      <th>3</th>\n",
              "      <td>4</td>\n",
              "      <td>NaN</td>\n",
              "      <td>818</td>\n",
              "      <td>2015-02-01 00:01:00+00</td>\n",
              "      <td>2015-02-01 00:15:00+00</td>\n",
              "      <td>2004</td>\n",
              "      <td>6 Ave &amp; Broome St</td>\n",
              "      <td>40.724399</td>\n",
              "      <td>-74.004704</td>\n",
              "      <td>505</td>\n",
              "      <td>6 Ave &amp; W 33 St</td>\n",
              "      <td>40.749013</td>\n",
              "      <td>-73.988484</td>\n",
              "      <td>21044</td>\n",
              "      <td>Subscriber</td>\n",
              "      <td>1985.0</td>\n",
              "      <td>2</td>\n",
              "    </tr>\n",
              "    <tr>\n",
              "      <th>4</th>\n",
              "      <td>5</td>\n",
              "      <td>NaN</td>\n",
              "      <td>544</td>\n",
              "      <td>2015-02-01 00:01:00+00</td>\n",
              "      <td>2015-02-01 00:10:00+00</td>\n",
              "      <td>323</td>\n",
              "      <td>Lawrence St &amp; Willoughby St</td>\n",
              "      <td>40.692362</td>\n",
              "      <td>-73.986317</td>\n",
              "      <td>83</td>\n",
              "      <td>Atlantic Ave &amp; Fort Greene Pl</td>\n",
              "      <td>40.683826</td>\n",
              "      <td>-73.976323</td>\n",
              "      <td>19868</td>\n",
              "      <td>Subscriber</td>\n",
              "      <td>1957.0</td>\n",
              "      <td>1</td>\n",
              "    </tr>\n",
              "  </tbody>\n",
              "</table>\n",
              "</div>\n",
              "      <button class=\"colab-df-convert\" onclick=\"convertToInteractive('df-f7220ad2-9bb6-4645-a302-72f796022f58')\"\n",
              "              title=\"Convert this dataframe to an interactive table.\"\n",
              "              style=\"display:none;\">\n",
              "        \n",
              "  <svg xmlns=\"http://www.w3.org/2000/svg\" height=\"24px\"viewBox=\"0 0 24 24\"\n",
              "       width=\"24px\">\n",
              "    <path d=\"M0 0h24v24H0V0z\" fill=\"none\"/>\n",
              "    <path d=\"M18.56 5.44l.94 2.06.94-2.06 2.06-.94-2.06-.94-.94-2.06-.94 2.06-2.06.94zm-11 1L8.5 8.5l.94-2.06 2.06-.94-2.06-.94L8.5 2.5l-.94 2.06-2.06.94zm10 10l.94 2.06.94-2.06 2.06-.94-2.06-.94-.94-2.06-.94 2.06-2.06.94z\"/><path d=\"M17.41 7.96l-1.37-1.37c-.4-.4-.92-.59-1.43-.59-.52 0-1.04.2-1.43.59L10.3 9.45l-7.72 7.72c-.78.78-.78 2.05 0 2.83L4 21.41c.39.39.9.59 1.41.59.51 0 1.02-.2 1.41-.59l7.78-7.78 2.81-2.81c.8-.78.8-2.07 0-2.86zM5.41 20L4 18.59l7.72-7.72 1.47 1.35L5.41 20z\"/>\n",
              "  </svg>\n",
              "      </button>\n",
              "      \n",
              "  <style>\n",
              "    .colab-df-container {\n",
              "      display:flex;\n",
              "      flex-wrap:wrap;\n",
              "      gap: 12px;\n",
              "    }\n",
              "\n",
              "    .colab-df-convert {\n",
              "      background-color: #E8F0FE;\n",
              "      border: none;\n",
              "      border-radius: 50%;\n",
              "      cursor: pointer;\n",
              "      display: none;\n",
              "      fill: #1967D2;\n",
              "      height: 32px;\n",
              "      padding: 0 0 0 0;\n",
              "      width: 32px;\n",
              "    }\n",
              "\n",
              "    .colab-df-convert:hover {\n",
              "      background-color: #E2EBFA;\n",
              "      box-shadow: 0px 1px 2px rgba(60, 64, 67, 0.3), 0px 1px 3px 1px rgba(60, 64, 67, 0.15);\n",
              "      fill: #174EA6;\n",
              "    }\n",
              "\n",
              "    [theme=dark] .colab-df-convert {\n",
              "      background-color: #3B4455;\n",
              "      fill: #D2E3FC;\n",
              "    }\n",
              "\n",
              "    [theme=dark] .colab-df-convert:hover {\n",
              "      background-color: #434B5C;\n",
              "      box-shadow: 0px 1px 3px 1px rgba(0, 0, 0, 0.15);\n",
              "      filter: drop-shadow(0px 1px 2px rgba(0, 0, 0, 0.3));\n",
              "      fill: #FFFFFF;\n",
              "    }\n",
              "  </style>\n",
              "\n",
              "      <script>\n",
              "        const buttonEl =\n",
              "          document.querySelector('#df-f7220ad2-9bb6-4645-a302-72f796022f58 button.colab-df-convert');\n",
              "        buttonEl.style.display =\n",
              "          google.colab.kernel.accessAllowed ? 'block' : 'none';\n",
              "\n",
              "        async function convertToInteractive(key) {\n",
              "          const element = document.querySelector('#df-f7220ad2-9bb6-4645-a302-72f796022f58');\n",
              "          const dataTable =\n",
              "            await google.colab.kernel.invokeFunction('convertToInteractive',\n",
              "                                                     [key], {});\n",
              "          if (!dataTable) return;\n",
              "\n",
              "          const docLinkHtml = 'Like what you see? Visit the ' +\n",
              "            '<a target=\"_blank\" href=https://colab.research.google.com/notebooks/data_table.ipynb>data table notebook</a>'\n",
              "            + ' to learn more about interactive tables.';\n",
              "          element.innerHTML = '';\n",
              "          dataTable['output_type'] = 'display_data';\n",
              "          await google.colab.output.renderOutput(dataTable, element);\n",
              "          const docLink = document.createElement('div');\n",
              "          docLink.innerHTML = docLinkHtml;\n",
              "          element.appendChild(docLink);\n",
              "        }\n",
              "      </script>\n",
              "    </div>\n",
              "  </div>\n",
              "  "
            ],
            "text/plain": [
              "   cartodb_id  the_geom  tripduration  ...    usertype birth_year  gender\n",
              "0           1       NaN           801  ...  Subscriber     1978.0       2\n",
              "1           2       NaN           379  ...  Subscriber     1993.0       1\n",
              "2           3       NaN          2474  ...  Subscriber     1969.0       2\n",
              "3           4       NaN           818  ...  Subscriber     1985.0       2\n",
              "4           5       NaN           544  ...  Subscriber     1957.0       1\n",
              "\n",
              "[5 rows x 17 columns]"
            ]
          },
          "metadata": {},
          "execution_count": 50
        }
      ]
    },
    {
      "cell_type": "code",
      "metadata": {
        "id": "8VPvaIUdbY2h",
        "colab": {
          "base_uri": "https://localhost:8080/"
        },
        "outputId": "b076dc86-6b68-462d-e9d9-8811967777ea"
      },
      "source": [
        "import csv\n",
        "\n",
        "def extract(result, record):\n",
        "  day = record['starttime'].split(' ')[0]\n",
        "  if len(result) == 0 or result[-1][0] != day:\n",
        "    result.append((day, record['birth_year']))\n",
        "  return result\n",
        "\n",
        "with open('citibike.csv','r') as fi:\n",
        "    reader = csv.DictReader(fi)\n",
        "    first_birth_years = map(lambda x: int(x[1]), reduce(extract , reader, []))\n",
        "\n",
        "list(first_birth_years)\n",
        "\n",
        "# After this, your first_birth_years should be"
      ],
      "execution_count": null,
      "outputs": [
        {
          "output_type": "execute_result",
          "data": {
            "text/plain": [
              "[1978, 1992, 1982, 1969, 1971, 1989, 1963]"
            ]
          },
          "metadata": {},
          "execution_count": 47
        }
      ]
    }
  ]
}