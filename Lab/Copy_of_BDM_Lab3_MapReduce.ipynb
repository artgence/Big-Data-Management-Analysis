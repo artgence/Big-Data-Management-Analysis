{
  "nbformat": 4,
  "nbformat_minor": 0,
  "metadata": {
    "colab": {
      "name": "Copy of BDM_Lab3_MapReduce",
      "provenance": [],
      "collapsed_sections": []
    },
    "kernelspec": {
      "name": "python3",
      "display_name": "Python 3"
    }
  },
  "cells": [
    {
      "cell_type": "markdown",
      "metadata": {
        "id": "iTrFvJXKfYOW"
      },
      "source": [
        "# Lab 3 - MapReduce\n",
        "\n",
        "In this lab, we practice the MapReduce programming paradigm.\n",
        "\n",
        "We will complete the tasks using the accompanied *mapreduce* package (as **mapreduce.py**) and MRJob. Please download the **mapreduce.py** file from our online class resource page, and place it in the same folder with your notebook.\n",
        "\n",
        "For each invocation of an MapReduce job (with mr.run()), you are expected to supply a mapper, a reducer and/or a combiner as needed. Below are sample usage of the package:\n",
        "\n",
        "```python\n",
        "    # Run on input1 using your mapper1 and reducer1 function\n",
        "    output = list(mr.run(input1, mapper1, reducer1))\n",
        "\n",
        "    # Run on input2 using only your mapper2, no reduce phase\n",
        "    output = list(mr.run(enumerate(input2), mapper2, combiner2))\n",
        "    \n",
        "    # Run on input3 using 2 nested MapReduce jobs\n",
        "    output = mr.run(mr.run(input3, mapper3, reducer3), mapper4)\n",
        "```\n",
        "    \n",
        "Please note that the input must be an iteratable of **key/value pairs**. If your inpu tdata does not have a key, you can simply add a null or index key through **enumerator(input)**. The output of the mr.run() is always a **generator**. You have to cast it to a list if you'd like to view, index or print it out.\n",
        "\n",
        "We will also need **book.txt** and **citibike.csv** to be downloaded."
      ]
    },
    {
      "cell_type": "code",
      "metadata": {
        "colab": {
          "base_uri": "https://localhost:8080/"
        },
        "id": "5LVOMbEOfqNl",
        "outputId": "85aca793-4ebe-44c1-cc0a-936b374a25a9"
      },
      "source": [
        "!pip install mrjob"
      ],
      "execution_count": null,
      "outputs": [
        {
          "output_type": "stream",
          "name": "stdout",
          "text": [
            "Collecting mrjob\n",
            "  Downloading mrjob-0.7.4-py2.py3-none-any.whl (439 kB)\n",
            "\u001b[?25l\r\u001b[K     |▊                               | 10 kB 20.6 MB/s eta 0:00:01\r\u001b[K     |█▌                              | 20 kB 8.8 MB/s eta 0:00:01\r\u001b[K     |██▎                             | 30 kB 7.4 MB/s eta 0:00:01\r\u001b[K     |███                             | 40 kB 7.1 MB/s eta 0:00:01\r\u001b[K     |███▊                            | 51 kB 4.2 MB/s eta 0:00:01\r\u001b[K     |████▌                           | 61 kB 4.4 MB/s eta 0:00:01\r\u001b[K     |█████▏                          | 71 kB 4.3 MB/s eta 0:00:01\r\u001b[K     |██████                          | 81 kB 4.9 MB/s eta 0:00:01\r\u001b[K     |██████▊                         | 92 kB 3.8 MB/s eta 0:00:01\r\u001b[K     |███████▌                        | 102 kB 4.1 MB/s eta 0:00:01\r\u001b[K     |████████▏                       | 112 kB 4.1 MB/s eta 0:00:01\r\u001b[K     |█████████                       | 122 kB 4.1 MB/s eta 0:00:01\r\u001b[K     |█████████▊                      | 133 kB 4.1 MB/s eta 0:00:01\r\u001b[K     |██████████▍                     | 143 kB 4.1 MB/s eta 0:00:01\r\u001b[K     |███████████▏                    | 153 kB 4.1 MB/s eta 0:00:01\r\u001b[K     |████████████                    | 163 kB 4.1 MB/s eta 0:00:01\r\u001b[K     |████████████▊                   | 174 kB 4.1 MB/s eta 0:00:01\r\u001b[K     |█████████████▍                  | 184 kB 4.1 MB/s eta 0:00:01\r\u001b[K     |██████████████▏                 | 194 kB 4.1 MB/s eta 0:00:01\r\u001b[K     |███████████████                 | 204 kB 4.1 MB/s eta 0:00:01\r\u001b[K     |███████████████▋                | 215 kB 4.1 MB/s eta 0:00:01\r\u001b[K     |████████████████▍               | 225 kB 4.1 MB/s eta 0:00:01\r\u001b[K     |█████████████████▏              | 235 kB 4.1 MB/s eta 0:00:01\r\u001b[K     |██████████████████              | 245 kB 4.1 MB/s eta 0:00:01\r\u001b[K     |██████████████████▋             | 256 kB 4.1 MB/s eta 0:00:01\r\u001b[K     |███████████████████▍            | 266 kB 4.1 MB/s eta 0:00:01\r\u001b[K     |████████████████████▏           | 276 kB 4.1 MB/s eta 0:00:01\r\u001b[K     |████████████████████▉           | 286 kB 4.1 MB/s eta 0:00:01\r\u001b[K     |█████████████████████▋          | 296 kB 4.1 MB/s eta 0:00:01\r\u001b[K     |██████████████████████▍         | 307 kB 4.1 MB/s eta 0:00:01\r\u001b[K     |███████████████████████         | 317 kB 4.1 MB/s eta 0:00:01\r\u001b[K     |███████████████████████▉        | 327 kB 4.1 MB/s eta 0:00:01\r\u001b[K     |████████████████████████▋       | 337 kB 4.1 MB/s eta 0:00:01\r\u001b[K     |█████████████████████████▍      | 348 kB 4.1 MB/s eta 0:00:01\r\u001b[K     |██████████████████████████      | 358 kB 4.1 MB/s eta 0:00:01\r\u001b[K     |██████████████████████████▉     | 368 kB 4.1 MB/s eta 0:00:01\r\u001b[K     |███████████████████████████▋    | 378 kB 4.1 MB/s eta 0:00:01\r\u001b[K     |████████████████████████████▎   | 389 kB 4.1 MB/s eta 0:00:01\r\u001b[K     |█████████████████████████████   | 399 kB 4.1 MB/s eta 0:00:01\r\u001b[K     |█████████████████████████████▉  | 409 kB 4.1 MB/s eta 0:00:01\r\u001b[K     |██████████████████████████████▋ | 419 kB 4.1 MB/s eta 0:00:01\r\u001b[K     |███████████████████████████████▎| 430 kB 4.1 MB/s eta 0:00:01\r\u001b[K     |████████████████████████████████| 439 kB 4.1 MB/s \n",
            "\u001b[?25hRequirement already satisfied: PyYAML>=3.10 in /usr/local/lib/python3.7/dist-packages (from mrjob) (3.13)\n",
            "Installing collected packages: mrjob\n",
            "Successfully installed mrjob-0.7.4\n"
          ]
        }
      ]
    },
    {
      "cell_type": "code",
      "metadata": {
        "id": "KjLap5JAgDuv",
        "colab": {
          "base_uri": "https://localhost:8080/"
        },
        "outputId": "fda64dc0-1870-4502-ee3c-23b05a9cc7ed"
      },
      "source": [
        "!gdown --id 1sq4-zXn2Z82mdLSBBegEgsUsfqtgza-C -O mapreduce.py\n",
        "!gdown --id 1qCQ6edyhTA1kqFWZf1y65ogidivDbBIT -O book.txt\n",
        "!gdown --id 1I8eqA1Zy3vFq4mN8z0ZRl7ABXrdzCRYI -O citibike.csv"
      ],
      "execution_count": null,
      "outputs": [
        {
          "output_type": "stream",
          "name": "stdout",
          "text": [
            "Downloading...\n",
            "From: https://drive.google.com/uc?id=1sq4-zXn2Z82mdLSBBegEgsUsfqtgza-C\n",
            "To: /content/mapreduce.py\n",
            "100% 2.66k/2.66k [00:00<00:00, 5.10MB/s]\n",
            "Downloading...\n",
            "From: https://drive.google.com/uc?id=1qCQ6edyhTA1kqFWZf1y65ogidivDbBIT\n",
            "To: /content/book.txt\n",
            "100% 259k/259k [00:00<00:00, 74.5MB/s]\n",
            "Downloading...\n",
            "From: https://drive.google.com/uc?id=1I8eqA1Zy3vFq4mN8z0ZRl7ABXrdzCRYI\n",
            "To: /content/citibike.csv\n",
            "100% 8.16M/8.16M [00:00<00:00, 290MB/s]\n"
          ]
        }
      ]
    },
    {
      "cell_type": "code",
      "metadata": {
        "id": "jJ_4RiIffYOg"
      },
      "source": [
        "import csv\n",
        "import mapreduce as mr"
      ],
      "execution_count": null,
      "outputs": []
    },
    {
      "cell_type": "markdown",
      "metadata": {
        "id": "d5FWGyRPfYOh"
      },
      "source": [
        "## Task 0\n",
        "\n",
        "Here is another concrete example on \"Word Count\" using the package. Assuming we have a text file named *book.txt*. Our task is to count the frequency of words in this document, and print the top 10. For illustration purposes, we use only the first 1000 lines of the book for counting."
      ]
    },
    {
      "cell_type": "code",
      "source": [
        "with open('book.txt', 'r') as fi:\n",
        "    lines = [(i,line.strip()) for i,line in enumerate(fi) if i<1000]\n",
        "lines[:10]"
      ],
      "metadata": {
        "colab": {
          "base_uri": "https://localhost:8080/"
        },
        "id": "RIM4v7gBEp6u",
        "outputId": "79a77f58-73c1-4704-c39a-c4ac0b81c97c"
      },
      "execution_count": null,
      "outputs": [
        {
          "output_type": "execute_result",
          "data": {
            "text/plain": [
              "[(0, '\\ufeffThe Project Gutenberg EBook of English Coins and Tokens, by'),\n",
              " (1, 'Llewellynn Jewitt and Barclay V. Head'),\n",
              " (2, ''),\n",
              " (3,\n",
              "  'This eBook is for the use of anyone anywhere in the United States and most'),\n",
              " (4, 'other parts of the world at no cost and with almost no restrictions'),\n",
              " (5,\n",
              "  'whatsoever.  You may copy it, give it away or re-use it under the terms of'),\n",
              " (6, 'the Project Gutenberg License included with this eBook or online at'),\n",
              " (7,\n",
              "  \"www.gutenberg.org.  If you are not located in the United States, you'll have\"),\n",
              " (8,\n",
              "  'to check the laws of the country where you are located before using this ebook.'),\n",
              " (9, '')]"
            ]
          },
          "metadata": {},
          "execution_count": 4
        }
      ]
    },
    {
      "cell_type": "code",
      "metadata": {
        "colab": {
          "base_uri": "https://localhost:8080/"
        },
        "id": "OFC82KkLfYOi",
        "outputId": "c9787924-d3ba-4f02-bffe-9c7bcf33c168"
      },
      "source": [
        "### After this, 'lines' stores a list of 1000 text lines\n",
        "def mapper(k1, line):\n",
        "    for word in line.strip().split(' '):\n",
        "        if len(word)>0:\n",
        "            yield (word, 1)\n",
        "    \n",
        "def reducer(word, counts):\n",
        "    yield (word, sum(counts))\n",
        "\n",
        "wCounts = list(mr.run(lines, mapper, reducer))\n",
        "sortedCounts = sorted(wCounts, key=lambda x: -x[1])\n",
        "sortedCounts[:10]"
      ],
      "execution_count": null,
      "outputs": [
        {
          "output_type": "execute_result",
          "data": {
            "text/plain": [
              "[('the', 360),\n",
              " ('of', 326),\n",
              " ('and', 246),\n",
              " ('a', 169),\n",
              " ('or', 161),\n",
              " ('to', 101),\n",
              " ('with', 100),\n",
              " ('in', 88),\n",
              " ('on', 67),\n",
              " ('as', 56)]"
            ]
          },
          "metadata": {},
          "execution_count": 5
        }
      ]
    },
    {
      "cell_type": "code",
      "metadata": {
        "colab": {
          "base_uri": "https://localhost:8080/"
        },
        "id": "KzrAz_8SRMMf",
        "outputId": "b2d838b3-d5b0-440a-f948-3aed96560fa8"
      },
      "source": [
        "!head -n 2 citibike.csv"
      ],
      "execution_count": null,
      "outputs": [
        {
          "output_type": "stream",
          "name": "stdout",
          "text": [
            "cartodb_id,the_geom,tripduration,starttime,stoptime,start_station_id,start_station_name,start_station_latitude,start_station_longitude,end_station_id,end_station_name,end_station_latitude,end_station_longitude,bikeid,usertype,birth_year,gender\n",
            "1,,801,2015-02-01 00:00:00+00,2015-02-01 00:14:00+00,521,8 Ave & W 31 St,40.75044999,-73.99481051,423,W 54 St & 9 Ave,40.76584941,-73.98690506,17131,Subscriber,1978,2\n"
          ]
        }
      ]
    },
    {
      "cell_type": "markdown",
      "metadata": {
        "id": "-q7maTHSfYOk"
      },
      "source": [
        "## Task 1\n",
        "\n",
        "We would like to write a MapReduce job to count the total number of trips involved at each station. For example, if a trip starts at station A and stops at station B, the trip will count for both A and B. The output must be tuples, each consisting of a station name and a count."
      ]
    },
    {
      "cell_type": "code",
      "metadata": {
        "colab": {
          "base_uri": "https://localhost:8080/"
        },
        "id": "r-2bSj0QfYOl",
        "outputId": "ed7f2fc2-6ab8-488f-9fe8-a755fcd1b12a"
      },
      "source": [
        "def mapper1(_, row):\n",
        "  yield (row['start_station_name'], 1)\n",
        "  yield (row['end_station_name'], 1)\n",
        "\n",
        "def reducer1(station, counts):\n",
        "  yield (station, sum(counts))\n",
        "    \n",
        "with open('citibike.csv', 'r') as fi:\n",
        "    reader = enumerate(csv.DictReader(fi))\n",
        "    output1 = list(mr.run(reader, mapper1, reducer1))\n",
        "\n",
        "output1[:10]"
      ],
      "execution_count": null,
      "outputs": [
        {
          "output_type": "execute_result",
          "data": {
            "text/plain": [
              "[('1 Ave & E 15 St', 795),\n",
              " ('1 Ave & E 44 St', 219),\n",
              " ('10 Ave & W 28 St', 422),\n",
              " ('11 Ave & W 27 St', 354),\n",
              " ('11 Ave & W 41 St', 461),\n",
              " ('11 Ave & W 59 St', 242),\n",
              " ('12 Ave & W 40 St', 217),\n",
              " ('2 Ave & E 31 St', 588),\n",
              " ('2 Ave & E 58 St', 125),\n",
              " ('3 Ave & Schermerhorn St', 34)]"
            ]
          },
          "metadata": {},
          "execution_count": 10
        }
      ]
    },
    {
      "cell_type": "markdown",
      "metadata": {
        "id": "syxUY65ufYOl"
      },
      "source": [
        "\n",
        "## Task 2\n",
        "\n",
        "Below is an example of showing how to use nested jobs and jobs with mappers only using the mapreduce package, thus, no points are included. Our task here is that we would like to filter the output of Task 1 to display only those stations with more than 1000 trips involved, of course, using the MapReduce paradigm."
      ]
    },
    {
      "cell_type": "code",
      "metadata": {
        "colab": {
          "base_uri": "https://localhost:8080/"
        },
        "id": "RsciZe4ufYOm",
        "outputId": "493b2977-bf72-46ef-dcf4-f247c7a30eef"
      },
      "source": [
        "def mapper2(station, count):\n",
        "  if count > 1000:  yield(station, count)\n",
        "\n",
        "with open('citibike.csv', 'r') as fi:\n",
        "    reader = enumerate(csv.DictReader(fi))\n",
        "    output2 = list(mr.run(mr.run(reader, mapper1, reducer1), mapper2))\n",
        "\n",
        "output2"
      ],
      "execution_count": null,
      "outputs": [
        {
          "output_type": "execute_result",
          "data": {
            "text/plain": [
              "[('8 Ave & W 31 St', 1065),\n",
              " ('E 43 St & Vanderbilt Ave', 1003),\n",
              " ('Lafayette St & E 8 St', 1013),\n",
              " ('W 21 St & 6 Ave', 1057),\n",
              " ('W 41 St & 8 Ave', 1095)]"
            ]
          },
          "metadata": {},
          "execution_count": 11
        }
      ]
    },
    {
      "cell_type": "markdown",
      "metadata": {
        "id": "3FYBZxIafYOn"
      },
      "source": [
        "\n",
        "## Task 3\n",
        "\n",
        "We would like to count the number of trips taken between pairs of stations. Trips taken from station A to station B or  from station B to station A are both counted towards the station pair A and B. Please note that the station pair shoud be identified by station names, as a tuple, and in lexical order, i.e. (A,B) instead of (B,A) in this case. The output must be tuples, each consisting of the station pair identification and a count."
      ]
    },
    {
      "cell_type": "code",
      "metadata": {
        "colab": {
          "base_uri": "https://localhost:8080/"
        },
        "id": "FqT3oHCufYOn",
        "outputId": "769586b4-cacb-42b6-e491-925493d458a7"
      },
      "source": [
        "def mapper3(_, row):\n",
        "  if row['start_station_name'] < row['end_station_name']: yield ((row['start_station_name'], row['end_station_name']), 1)\n",
        "  else: yield ((row['end_station_name'], row['start_station_name']), 1)\n",
        "\n",
        "def reducer3(station_pair, counts):\n",
        "  yield (station_pair, sum(counts))\n",
        "\n",
        "with open('citibike.csv', 'r') as fi:\n",
        "    reader = enumerate(csv.DictReader(fi))\n",
        "    output3 = list(mr.run(reader, mapper3, reducer3))\n",
        "\n",
        "output3[:10]"
      ],
      "execution_count": null,
      "outputs": [
        {
          "output_type": "execute_result",
          "data": {
            "text/plain": [
              "[(('1 Ave & E 15 St', '1 Ave & E 15 St'), 5),\n",
              " (('1 Ave & E 15 St', '1 Ave & E 44 St'), 6),\n",
              " (('1 Ave & E 15 St', '11 Ave & W 27 St'), 1),\n",
              " (('1 Ave & E 15 St', '2 Ave & E 31 St'), 9),\n",
              " (('1 Ave & E 15 St', '5 Ave & E 29 St'), 2),\n",
              " (('1 Ave & E 15 St', '6 Ave & Broome St'), 3),\n",
              " (('1 Ave & E 15 St', '6 Ave & Canal St'), 1),\n",
              " (('1 Ave & E 15 St', '8 Ave & W 31 St'), 5),\n",
              " (('1 Ave & E 15 St', '9 Ave & W 14 St'), 3),\n",
              " (('1 Ave & E 15 St', '9 Ave & W 16 St'), 3)]"
            ]
          },
          "metadata": {},
          "execution_count": 13
        }
      ]
    },
    {
      "cell_type": "markdown",
      "metadata": {
        "id": "GMvbI4p_fYOo"
      },
      "source": [
        "\n",
        "## Task 4\n",
        "\n",
        "In this task, you are asked to compute the station with the most riders started from, per each gender of the *'Subscriber'* user. Meaning, what was the station name with the highest number of bike pickups for female riders, for male riders and for unknown riders.\n",
        "\n",
        "The output will be a list of tuples, each includes a gender label (as indicated below) and another tuple consisting of a station name, and the total number of trips started at that station for that gender.\n",
        "\n",
        "\n",
        "The label mapping for the gender column in citibike.csv is: (Zero=<b>Unknown</b>; 1=<b>Male</b>; 2=<b>Female</b>)"
      ]
    },
    {
      "cell_type": "code",
      "metadata": {
        "colab": {
          "base_uri": "https://localhost:8080/"
        },
        "id": "-5ecA1chfYOp",
        "outputId": "1c64e68c-6e30-4a8a-abda-53e67285ff5e"
      },
      "source": [
        "def mapper4(station_gender, count):\n",
        "  yield (station_gender[1], (station_gender[0], count))\n",
        "\n",
        "def reducer4(gender, station_count):\n",
        "  if gender == '0':\n",
        "    yield ('Unknown', max(station_count))\n",
        "  elif gender == '1':\n",
        "    yield ('Male', max(station_count))\n",
        "  else:\n",
        "    yield ('Female', max(station_count))\n",
        "\n",
        "def mapper5(_, row):\n",
        "  if row['usertype'] == 'Subscriber':\n",
        "    yield ((row['start_station_name'], row['gender']), 1)\n",
        "\n",
        "def reducer5(station_gender_pair, counts):\n",
        "    yield (station_gender_pair, sum(counts))\n",
        "\n",
        "with open('citibike.csv', 'r') as fi:\n",
        "    reader = enumerate(csv.DictReader(fi))\n",
        "    output5 = list(mr.run(mr.run(reader, mapper5, reducer5), mapper4, reducer4))\n",
        "\n",
        "output5[:10]"
      ],
      "execution_count": null,
      "outputs": [
        {
          "output_type": "execute_result",
          "data": {
            "text/plain": [
              "[('Unknown', ('Stanton St & Mangin St', 1)),\n",
              " ('Male', ('York St & Jay St', 81)),\n",
              " ('Female', ('York St & Jay St', 25))]"
            ]
          },
          "metadata": {},
          "execution_count": 25
        }
      ]
    },
    {
      "cell_type": "markdown",
      "metadata": {
        "id": "hrradqrnfYOq"
      },
      "source": [
        "## Task 5\n",
        "\n",
        "MRJob is a convenient package for simplifying the execution of MapReduce jobs on clusters. However, it doesn't work in a notebook. We're going to convert some of the examples of MRJob into our notebooks so that we can test our code before deploying them on Hadoop.\n",
        "\n",
        "The two examples are available at:\n",
        "\n",
        "https://mrjob.readthedocs.io/en/latest/guides/quickstart.html\n",
        "\n",
        "https://mrjob.readthedocs.io/en/latest/guides/writing-mrjobs.html"
      ]
    },
    {
      "cell_type": "code",
      "metadata": {
        "id": "otYKD3Jkj6y5"
      },
      "source": [
        ""
      ],
      "execution_count": null,
      "outputs": []
    },
    {
      "cell_type": "markdown",
      "metadata": {
        "id": "r2k1st8efYOs"
      },
      "source": [
        "## Task 6\n",
        "\n",
        "Let's try to run the above MRJob examples as stand-alone applications. Please check again:\n",
        "https://mrjob.readthedocs.io/en/latest/guides/writing-mrjobs.html#defining-steps"
      ]
    },
    {
      "cell_type": "code",
      "metadata": {
        "id": "ecdsW3X2hHTm"
      },
      "source": [
        ""
      ],
      "execution_count": null,
      "outputs": []
    }
  ]
}